{
 "cells": [
  {
   "cell_type": "code",
   "execution_count": 1,
   "id": "367e1fe3",
   "metadata": {},
   "outputs": [
    {
     "name": "stdout",
     "output_type": "stream",
     "text": [
      "Collecting lief\n",
      "  Downloading lief-0.16.4-cp312-cp312-manylinux_2_28_x86_64.whl.metadata (2.5 kB)\n",
      "Downloading lief-0.16.4-cp312-cp312-manylinux_2_28_x86_64.whl (3.0 MB)\n",
      "\u001b[2K   \u001b[90m━━━━━━━━━━━━━━━━━━━━━━━━━━━━━━━━━━━━━━━━\u001b[0m \u001b[32m3.0/3.0 MB\u001b[0m \u001b[31m25.7 MB/s\u001b[0m eta \u001b[36m0:00:00\u001b[0m00:01\u001b[0m00:01\u001b[0m\n",
      "\u001b[?25hInstalling collected packages: lief\n",
      "Successfully installed lief-0.16.4\n"
     ]
    }
   ],
   "source": [
    "!pip install lief"
   ]
  },
  {
   "cell_type": "code",
   "execution_count": 7,
   "id": "e5dbba17",
   "metadata": {},
   "outputs": [
    {
     "data": {
      "text/plain": [
       "'99e0cff1a6c82f4109f0ea40df1a0396fe7e88e7ea5c204a1590e19f9a2c1049'"
      ]
     },
     "execution_count": 7,
     "metadata": {},
     "output_type": "execute_result"
    }
   ],
   "source": [
    "import lief\n",
    "import hashlib\n",
    "import sys\n",
    "\n",
    "def hash_text_section(elf_path):\n",
    "    elf = lief.parse(elf_path)\n",
    "    text_section = elf.get_section(\".text\")\n",
    "\n",
    "    if text_section is None:\n",
    "        print(\"No .text section found.\")\n",
    "        return\n",
    "\n",
    "    content = bytes(text_section.content)\n",
    "    sha256 = hashlib.sha256(content).hexdigest()\n",
    "\n",
    "    return sha256\n",
    "\n",
    "hash_text_section(\"./verified_main.elf\")\n"
   ]
  },
  {
   "cell_type": "code",
   "execution_count": 2,
   "id": "15a29752",
   "metadata": {},
   "outputs": [
    {
     "name": "stdout",
     "output_type": "stream",
     "text": [
      "Computed SHA-256: ccee87d1e8fcc73d158476a543334c2804dd299585d9f06ec9ab8e78e25f4b46\n",
      "Patching CT_HASH at offset 8 in section .data\n",
      "Patched ELF written to verified_main_patched.elf\n"
     ]
    }
   ],
   "source": [
    "\n",
    "def patch_ct_hash(elf_path, output_path):\n",
    "    # Parse the ELF file\n",
    "    elf = lief.parse(elf_path)\n",
    "\n",
    "    # Compute SHA-256 of .text section\n",
    "    text_section = elf.get_section(\".text\")\n",
    "    if text_section is None:\n",
    "        print(\"No .text section found.\")\n",
    "        return\n",
    "\n",
    "    text_bytes = bytes(text_section.content)\n",
    "    digest = hashlib.sha256(text_bytes).digest()\n",
    "\n",
    "    print(f\"Computed SHA-256: {digest.hex()}\")\n",
    "\n",
    "    # Find CT_HASH symbol\n",
    "    target_sym = None\n",
    "    for sym in elf.symbols:\n",
    "        if sym.name == \"CT_HASH\":\n",
    "            target_sym = sym\n",
    "            break\n",
    "\n",
    "    # target_sym now has the address of CT_HASH\n",
    "\n",
    "    if target_sym is None:\n",
    "        print(\"CT_HASH symbol not found.\")\n",
    "        return\n",
    "\n",
    "    # Locate the section where CT_HASH lives (target_sym.value is the address)\n",
    "    data_section = None\n",
    "    for section in elf.sections:\n",
    "        if section.virtual_address <= target_sym.value < section.virtual_address + section.size:\n",
    "            data_section = section\n",
    "            break\n",
    "\n",
    "    if data_section is None:\n",
    "        print(\"Could not find the section containing CT_HASH.\")\n",
    "        return\n",
    "\n",
    "    offset = target_sym.value - data_section.virtual_address\n",
    "    print(f\"Patching CT_HASH at offset {offset} in section {data_section.name}\")\n",
    "\n",
    "    # Patch the bytes in the section content\n",
    "    content = bytearray(data_section.content)\n",
    "    content[offset:offset + len(digest)] = digest\n",
    "    data_section.content = list(content)\n",
    "\n",
    "    # Write the modified ELF\n",
    "    elf.write(output_path)\n",
    "    print(f\"Patched ELF written to {output_path}\")\n",
    "\n",
    "\n",
    "patch_ct_hash(\"verified_main.elf\", \"verified_main_patched.elf\")\n"
   ]
  },
  {
   "cell_type": "code",
   "execution_count": 3,
   "id": "f839a384",
   "metadata": {},
   "outputs": [
    {
     "name": "stdout",
     "output_type": "stream",
     "text": [
      "✅ Flipped bit 0 at VMA 0x400100 (file offset 0x1100)\n",
      "📂 Saved to ./altered_main.elf\n"
     ]
    }
   ],
   "source": [
    "import sys\n",
    "import lief\n",
    "\n",
    "def flip_bit(byte, bit_position):\n",
    "    \"\"\"Flip the bit at bit_position (0-7) in a byte.\"\"\"\n",
    "    return byte ^ (1 << bit_position)\n",
    "\n",
    "def vma_to_file_offset(elf, vma):\n",
    "    \"\"\"Convert a VMA to a file offset using LIEF.\"\"\"\n",
    "    for segment in elf.segments:\n",
    "        seg_start = segment.virtual_address\n",
    "        seg_end = seg_start + segment.virtual_size\n",
    "        if seg_start <= vma < seg_end:\n",
    "            offset_in_segment = vma - seg_start\n",
    "            return segment.file_offset + offset_in_segment\n",
    "    raise ValueError(f\"VMA {hex(vma)} not found in any segment\")\n",
    "\n",
    "def flip_bit_in_text_section(input_path, output_path, vma, bit_position):\n",
    "    elf = lief.parse(input_path)\n",
    "    if elf is None:\n",
    "        print(f\"❌ Failed to parse ELF: {input_path}\")\n",
    "        sys.exit(1)\n",
    "\n",
    "    file_offset = vma_to_file_offset(elf, vma)\n",
    "\n",
    "    # Read raw bytes\n",
    "    with open(input_path, \"rb\") as f:\n",
    "        data = bytearray(f.read())\n",
    "\n",
    "    if file_offset >= len(data):\n",
    "        print(f\"❌ File offset {hex(file_offset)} is out of range\")\n",
    "        sys.exit(1)\n",
    "\n",
    "    original_byte = data[file_offset]\n",
    "    data[file_offset] = flip_bit(original_byte, bit_position)\n",
    "\n",
    "    # Save modified binary\n",
    "    with open(output_path, \"wb\") as f:\n",
    "        f.write(data)\n",
    "\n",
    "    print(f\"✅ Flipped bit {bit_position} at VMA {hex(vma)} (file offset {hex(file_offset)})\")\n",
    "    print(f\"📂 Saved to {output_path}\")\n",
    "\n",
    "flip_bit_in_text_section(\"./verified_main_patched.elf\", \"./altered_main.elf\", 0x400100, 0)\n"
   ]
  },
  {
   "cell_type": "code",
   "execution_count": null,
   "id": "5bef4915",
   "metadata": {},
   "outputs": [
    {
     "name": "stdout",
     "output_type": "stream",
     "text": [
      "Difference in hex: -0x4c0ba1bbdc11be0e12d3f3cc693aeb0351c79458a6c2807cc5d3e6d8c03188b7\n",
      "Difference in decimal: -34396328055888670749958160464730542940828868522551923034469065408049195354295\n",
      "Difference in scientific notation: -3.44e+76\n"
     ]
    }
   ],
   "source": [
    "diff = 0xa18fa3b38793fecac18a5316658b55201ac63df89530c24f118a78b18102c54a - 0xed9b456f63a5bcd8d45e46e2cec640236c8dd2513bf342cbd75e5f8a41344e01\n",
    "\n",
    "# // print? diff in hex power of 10\n",
    "print(f\"Difference in hex: {hex(diff)}\")\n",
    "print(f\"Difference in decimal: {diff}\")\n",
    "print(f\"Difference in scientific notation: {diff:.2e}\")\n"
   ]
  },
  {
   "cell_type": "code",
   "execution_count": null,
   "id": "91fc7dd7",
   "metadata": {},
   "outputs": [],
   "source": []
  }
 ],
 "metadata": {
  "kernelspec": {
   "display_name": "venv",
   "language": "python",
   "name": "python3"
  },
  "language_info": {
   "codemirror_mode": {
    "name": "ipython",
    "version": 3
   },
   "file_extension": ".py",
   "mimetype": "text/x-python",
   "name": "python",
   "nbconvert_exporter": "python",
   "pygments_lexer": "ipython3",
   "version": "3.12.3"
  }
 },
 "nbformat": 4,
 "nbformat_minor": 5
}
